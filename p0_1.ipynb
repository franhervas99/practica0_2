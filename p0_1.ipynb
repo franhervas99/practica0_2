{
  "nbformat": 4,
  "nbformat_minor": 0,
  "metadata": {
    "colab": {
      "provenance": []
    },
    "kernelspec": {
      "name": "python3",
      "display_name": "Python 3"
    },
    "accelerator": "GPU",
    "gpuClass": "standard"
  },
  "cells": [
    {
      "cell_type": "markdown",
      "metadata": {
        "id": "tmvWhUFbZmHW"
      },
      "source": [
        "# Ejemplo Python simple"
      ]
    },
    {
      "cell_type": "code",
      "metadata": {
        "id": "jGca6zzEZmkv",
        "colab": {
          "base_uri": "https://localhost:8080/"
        },
        "outputId": "0e554a9e-7bd7-4182-9b67-7e44cdfff6ca"
      },
      "source": [
        "# Creo el array y calculo la FFT\n",
        "from scipy.fft import fft, ifft, fftfreq\n",
        "import numpy as np\n",
        "x = np.array([1.0, 2.0, 1.0, -1.0, 1.5])\n",
        "y = fft(x)\n",
        "y"
      ],
      "execution_count": 6,
      "outputs": [
        {
          "output_type": "execute_result",
          "data": {
            "text/plain": [
              "array([ 4.5       -0.j        ,  2.08155948-1.65109876j,\n",
              "       -1.83155948+1.60822041j, -1.83155948-1.60822041j,\n",
              "        2.08155948+1.65109876j])"
            ]
          },
          "metadata": {},
          "execution_count": 6
        }
      ]
    },
    {
      "cell_type": "code",
      "metadata": {
        "id": "GQlmNUaZZmtW",
        "colab": {
          "base_uri": "https://localhost:8080/"
        },
        "outputId": "c12fd4b1-e1f8-4788-ab95-84d7829d14be"
      },
      "source": [
        "# Calculo la FFT inversa\n",
        "yinv = ifft(y)\n",
        "yinv"
      ],
      "execution_count": 7,
      "outputs": [
        {
          "output_type": "execute_result",
          "data": {
            "text/plain": [
              "array([ 1. +0.j,  2. +0.j,  1. +0.j, -1. +0.j,  1.5+0.j])"
            ]
          },
          "metadata": {},
          "execution_count": 7
        }
      ]
    },
    {
      "cell_type": "code",
      "metadata": {
        "colab": {
          "base_uri": "https://localhost:8080/"
        },
        "id": "n7rM0ijSZzKB",
        "outputId": "685b7d1c-6def-4852-8da1-06276fb5221d"
      },
      "source": [
        "# Calculo la suma de los valores del array x\n",
        "np.sum(x)"
      ],
      "execution_count": 8,
      "outputs": [
        {
          "output_type": "execute_result",
          "data": {
            "text/plain": [
              "4.5"
            ]
          },
          "metadata": {},
          "execution_count": 8
        }
      ]
    },
    {
      "cell_type": "code",
      "metadata": {
        "id": "Klom_MCUZ4TB",
        "colab": {
          "base_uri": "https://localhost:8080/",
          "height": 265
        },
        "outputId": "b860c3f6-b7d2-426f-eb63-c0b86caa981a"
      },
      "source": [
        "# Calculo la FFT y visualización de la misma\n",
        "from scipy.fft import fft, ifft, fftfreq\n",
        "import numpy as np\n",
        "# Number of sample points\n",
        "N = 600\n",
        "# sample spacing\n",
        "T = 1.0 / 800.0\n",
        "x = np.linspace(0.0, N*T, N, endpoint=False)\n",
        "y = np.sin(50.0 * 2.0*np.pi*x) + 0.5*np.sin(80.0 * 2.0*np.pi*x)\n",
        "yf = fft(y)\n",
        "xf = fftfreq(N, T)[:N//2]\n",
        "import matplotlib.pyplot as plt\n",
        "plt.plot(xf, 2.0/N * np.abs(yf[0:N//2]))\n",
        "plt.grid()\n",
        "plt.show()"
      ],
      "execution_count": 9,
      "outputs": [
        {
          "output_type": "display_data",
          "data": {
            "text/plain": [
              "<Figure size 432x288 with 1 Axes>"
            ],
            "image/png": "[encoded data removed]"
          },
          "metadata": {
            "needs_background": "light"
          }
        }
      ]
    },
    {
      "cell_type": "code",
      "metadata": {
        "id": "67kTCCJr_cZw",
        "colab": {
          "base_uri": "https://localhost:8080/",
          "height": 265
        },
        "outputId": "c093fa47-e680-4f94-9a8a-fa939af5d2dd"
      },
      "source": [
        "from scipy.fft import fft, fftfreq\n",
        "import numpy as np\n",
        "# Number of sample points\n",
        "N = 600\n",
        "# sample spacing\n",
        "T = 1.0 / 800.0\n",
        "x = np.linspace(0.0, N*T, N, endpoint=False)\n",
        "y = np.sin(50.0 * 2.0*np.pi*x) + 0.5*np.sin(80.0 * 2.0*np.pi*x)\n",
        "yf = fft(y)\n",
        "from scipy.signal import blackman\n",
        "w = blackman(N)\n",
        "ywf = fft(y*w)\n",
        "xf = fftfreq(N, T)[:N//2]\n",
        "import matplotlib.pyplot as plt\n",
        "plt.semilogy(xf[1:N//2], 2.0/N * np.abs(yf[1:N//2]), '-b')\n",
        "plt.semilogy(xf[1:N//2], 2.0/N * np.abs(ywf[1:N//2]), '-r')\n",
        "plt.legend(['FFT', 'FFT w. window'])\n",
        "plt.grid()\n",
        "plt.show()"
      ],
      "execution_count": 10,
      "outputs": [
        {
          "output_type": "display_data",
          "data": {
            "text/plain": [
              "<Figure size 432x288 with 1 Axes>"
            ],
            "image/png": "[encoded data removed]"
          },
          "metadata": {
            "needs_background": "light"
          }
        }
      ]
    },
    {
      "cell_type": "code",
      "metadata": {
        "id": "bA27WsBr4as4"
      },
      "source": [],
      "execution_count": null,
      "outputs": []
    }
  ]
}